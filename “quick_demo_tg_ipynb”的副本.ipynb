{
  "cells": [
    {
      "cell_type": "markdown",
      "metadata": {
        "id": "view-in-github",
        "colab_type": "text"
      },
      "source": [
        "<a href=\"https://colab.research.google.com/github/CnJsTiger/xtts_google_colab/blob/main/%E2%80%9Cquick_demo_tg_ipynb%E2%80%9D%E7%9A%84%E5%89%AF%E6%9C%AC.ipynb\" target=\"_parent\"><img src=\"https://colab.research.google.com/assets/colab-badge.svg\" alt=\"Open In Colab\"/></a>"
      ]
    },
    {
      "cell_type": "markdown",
      "metadata": {
        "id": "M74Gs_TjYl_B"
      },
      "source": [
        "[![Open In Colab](https://colab.research.google.com/assets/colab-badge.svg)](https://colab.research.google.com/github/Winfredy/SadTalker/blob/main/quick_demo.ipynb)"
      ]
    },
    {
      "cell_type": "markdown",
      "metadata": {
        "id": "view-in-github"
      },
      "source": [
        "### SadTalker：Learning Realistic 3D Motion Coefficients for Stylized Audio-Driven Single Image Talking Face Animation\n",
        "\n",
        "[arxiv](https://arxiv.org/abs/2211.12194) | [project](https://sadtalker.github.io) | [Github](https://github.com/Winfredy/SadTalker)\n",
        "\n",
        "Wenxuan Zhang, Xiaodong Cun, Xuan Wang, Yong Zhang, Xi Shen, Yu Guo, Ying Shan, Fei Wang.\n",
        "\n",
        "Xi'an Jiaotong University, Tencent AI Lab, Ant Group\n",
        "\n",
        "CVPR 2023\n",
        "\n",
        "TL;DR: A realistic and stylized talking head video generation method from a single image and audio\n"
      ]
    },
    {
      "cell_type": "markdown",
      "metadata": {
        "id": "kA89DV-sKS4i"
      },
      "source": [
        "Installation (around 5 mins)"
      ]
    },
    {
      "cell_type": "code",
      "execution_count": null,
      "metadata": {
        "id": "qJ4CplXsYl_E"
      },
      "outputs": [],
      "source": [
        "### make sure that CUDA is available in Edit -> Nootbook settings -> GPU\n",
        "!nvidia-smi --query-gpu=name,memory.total,memory.free --format=csv,noheader"
      ]
    },
    {
      "cell_type": "code",
      "source": [
        "## install python3.8 env and requirments(scripts from sadtalker github project)\n",
        "!update-alternatives --install /usr/local/bin/python3 python3 /usr/bin/python3.8 2\n",
        "!update-alternatives --install /usr/local/bin/python3 python3 /usr/bin/python3.9 1\n",
        "!sudo apt install python3.8\n",
        "\n",
        "!sudo apt-get install python3.8-distutils\n",
        "\n",
        "!python --version\n",
        "\n",
        "!apt-get update\n",
        "\n",
        "!apt install software-properties-common\n",
        "\n",
        "!sudo dpkg --remove --force-remove-reinstreq python3-pip python3-setuptools python3-wheel\n",
        "\n",
        "!apt-get install python3-pip\n",
        "\n",
        "# print('Git clone project and install requirements...')\n",
        "# !git clone https://github.com/Winfredy/SadTalker &> /dev/null\n",
        "# %cd SadTalker\n",
        "# !export PYTHONPATH=/content/SadTalker:$PYTHONPATH\n",
        "# !python3.8 -m pip install torch==1.12.1+cu113 torchvision==0.13.1+cu113 torchaudio==0.12.1 --extra-index-url https://download.pytorch.org/whl/cu113\n",
        "# !apt update\n",
        "# !apt install ffmpeg &> /dev/null\n",
        "%cd /content/drive/MyDrive/SadTalker\n",
        "!python3.8 -m pip install -r requirements.txt"
      ],
      "metadata": {
        "id": "8EDrtrVSBeYE"
      },
      "execution_count": null,
      "outputs": []
    },
    {
      "cell_type": "code",
      "execution_count": null,
      "metadata": {
        "id": "bwM2ZhqgYaX9"
      },
      "outputs": [],
      "source": [
        "## install python3.8 env\n",
        "# %cd /content/drive/MyDrive\n",
        "# !tar -xzf Python-3.8.17.tgz\n",
        "# !rm -rf Python-3.8\n",
        "%cd /content/drive/MyDrive/Python-3.8.17\n",
        "# !chmod 777 configure\n",
        "# !./configure --prefix=/content/drive/MyDrive/Python-3.8\n",
        "!make\n",
        "!sudo make install\n",
        "# !python3.10.10 -m pip install torch==1.12.1+cu113 torchvision==0.13.1+cu113 torchaudio==0.12.1 --extra-index-url https://download.pytorch.org/whl/cu113\n",
        "# !apt update\n",
        "# !apt install ffmpeg &> /dev/null\n",
        "# !python3.10.10 -m pip install -r requirements.txt\n",
        "\n",
        "# %cd /content/drive/MyDrive/Python-3.10.10\n",
        "# !./configure --prefix=/content/drive/MyDrive/Python-3.10\n",
        "# !make\n",
        "# !sudo make install\n",
        "# !python3.10.10 -m pip install torch==1.12.1+cu113 torchvision==0.13.1+cu113 torchaudio==0.12.1 --extra-index-url https://download.pytorch.org/whl/cu113\n",
        "# !apt update\n",
        "# !apt install ffmpeg &> /dev/null\n",
        "# !python3.10.10 -m pip install -r requirements.txt"
      ]
    },
    {
      "cell_type": "code",
      "execution_count": null,
      "metadata": {
        "id": "pbl4y-Pap_lK"
      },
      "outputs": [],
      "source": [
        "# env preparement for simple mode，load project files and python env from google drive\n",
        "\n",
        "!sudo ln -s /content/drive/MyDrive/Python-3.10/bin/python3 /usr/local/bin/python3.10.10\n",
        "!sudo ln -s /content/drive/MyDrive/Python-3.10/bin/pip3 /usr/local/bin/pip3.10.10\n",
        "!chmod 777 /usr/local/bin/python3.10.10\n",
        "!chmod 777 /usr/local/bin/pip3.10.10\n",
        "\n",
        "#!sudo apt-get install python3.10-distutils\n",
        "\n",
        "!python3.10.10 --version\n",
        "\n",
        "!apt-get update\n",
        "\n",
        "!apt install software-properties-common\n",
        "\n",
        "!sudo dpkg --remove --force-remove-reinstreq python3-pip python3-setuptools python3-wheel\n",
        "\n",
        "#!apt-get install python3-pip\n",
        "\n",
        "%cd /content/drive/MyDrive/SadTalker"
      ]
    },
    {
      "cell_type": "code",
      "execution_count": null,
      "metadata": {
        "id": "Mdq6j4E5KQAR"
      },
      "outputs": [],
      "source": [
        "# env preparement for full mode，need download project files and install python env( and it's requirements)\n",
        "\n",
        "!sudo ln -s /content/drive/MyDrive/Python-3.10/bin/python3 /usr/local/bin/python3.10.10\n",
        "!sudo ln -s /content/drive/MyDrive/Python-3.10/bin/pip3 /usr/local/bin/pip3.10.10\n",
        "!chmod 777 /usr/local/bin/python3.10.10\n",
        "!chmod 777 /usr/local/bin/pip3.10.10\n",
        "\n",
        "#!sudo apt-get install python3.8-distutils\n",
        "\n",
        "!python3.10.10 --version\n",
        "\n",
        "!apt-get update\n",
        "\n",
        "!apt install software-properties-common\n",
        "\n",
        "!sudo dpkg --remove --force-remove-reinstreq python3-pip python3-setuptools python3-wheel\n",
        "\n",
        "#!apt-get install python3-pip\n",
        "\n",
        "print('Git clone project and install requirements...')\n",
        "!git clone https://github.com/Winfredy/SadTalker /content/drive/MyDrive &> /dev/null\n",
        "%cd /content/drive/MyDrive/SadTalker\n",
        "!export PYTHONPATH=/content/drive/MyDrive/SadTalker:$PYTHONPATH\n",
        "!python3.10.10 -m pip install torch==1.12.1+cu113 torchvision==0.13.1+cu113 torchaudio==0.12.1 --extra-index-url https://download.pytorch.org/whl/cu113\n",
        "!apt update\n",
        "!apt install ffmpeg &> /dev/null\n",
        "!python3.10.10 -m pip install -r requirements.txt"
      ]
    },
    {
      "cell_type": "markdown",
      "metadata": {
        "id": "DddcKB_nKsnk"
      },
      "source": [
        "Download models (1 mins)"
      ]
    },
    {
      "cell_type": "code",
      "execution_count": null,
      "metadata": {
        "id": "eDw3_UN8K2xa"
      },
      "outputs": [],
      "source": [
        "print('Download pre-trained models...')\n",
        "!rm -rf checkpoints\n",
        "!bash scripts/download_models.sh"
      ]
    },
    {
      "cell_type": "code",
      "execution_count": null,
      "metadata": {
        "id": "kK7DYeo7Yl_H"
      },
      "outputs": [],
      "source": [
        "# borrow from makeittalk\n",
        "import ipywidgets as widgets\n",
        "import glob\n",
        "import matplotlib.pyplot as plt\n",
        "print(\"Choose the image name to animate: (saved in folder 'examples/')\")\n",
        "img_list = glob.glob1('examples/source_image', '*.png')\n",
        "img_list.sort()\n",
        "img_list = [item.split('.')[0] for item in img_list]\n",
        "default_head_name = widgets.Dropdown(options=img_list, value='full3')\n",
        "def on_change(change):\n",
        "    if change['type'] == 'change' and change['name'] == 'value':\n",
        "        plt.imshow(plt.imread('examples/source_image/{}.png'.format(default_head_name.value)))\n",
        "        plt.axis('off')\n",
        "        plt.show()\n",
        "default_head_name.observe(on_change)\n",
        "display(default_head_name)\n",
        "plt.imshow(plt.imread('examples/source_image/{}.png'.format(default_head_name.value)))\n",
        "plt.axis('off')\n",
        "plt.show()"
      ]
    },
    {
      "cell_type": "markdown",
      "metadata": {
        "id": "-khNZcnGK4UK"
      },
      "source": [
        "Animation"
      ]
    },
    {
      "cell_type": "code",
      "source": [
        "## set python3.10 env\n",
        "!sudo ln -s /content/drive/MyDrive/Python-3.10/bin/python3 /usr/local/bin/python3.10.10\n",
        "!sudo ln -s /content/drive/MyDrive/Python-3.10/bin/pip3 /usr/local/bin/pip3.10.10\n",
        "!chmod 777 /usr/local/bin/python3.10.10\n",
        "!chmod 777 /usr/local/bin/pip3.10.10\n",
        "!python3.10.10 --version"
      ],
      "metadata": {
        "colab": {
          "base_uri": "https://localhost:8080/"
        },
        "id": "CNbvULrx1VFq",
        "outputId": "259b50e6-4b31-40eb-ca63-06a5d845b610"
      },
      "execution_count": null,
      "outputs": [
        {
          "output_type": "stream",
          "name": "stdout",
          "text": [
            "Python 3.10.10\n"
          ]
        }
      ]
    },
    {
      "cell_type": "code",
      "source": [
        "## set python3.8 env\n",
        "!export PYTHONHOME='/content/drive/MyDrive/python/Python-3.8.18'\n",
        "!sudo ln -s /content/drive/MyDrive/python/Python-3.8.18/bin/python3 /usr/local/bin/python3.8.18\n",
        "!sudo ln -s /content/drive/MyDrive/python/Python-3.8.18/bin/pip3 /usr/local/bin/pip3.8.18\n",
        "!chmod 777 /usr/local/bin/python3.8.18\n",
        "!chmod 777 /usr/local/bin/pip3.8.18\n",
        "!python3.8.18 --version"
      ],
      "metadata": {
        "colab": {
          "base_uri": "https://localhost:8080/"
        },
        "id": "m6Bzn_HJdInW",
        "outputId": "dbace975-cc07-414d-9cfc-8f2373c61b35"
      },
      "execution_count": 39,
      "outputs": [
        {
          "output_type": "stream",
          "name": "stdout",
          "text": [
            "ln: failed to create symbolic link '/usr/local/bin/python3.8.18': File exists\n",
            "ln: failed to create symbolic link '/usr/local/bin/pip3.8.18': File exists\n",
            "chmod: cannot operate on dangling symlink '/usr/local/bin/pip3.8.18'\n",
            "Python 3.8.18\n"
          ]
        }
      ]
    },
    {
      "cell_type": "code",
      "source": [
        "!ls /usr/local/lib/python3.8/dist-packages\n",
        "#!ln -s /content/drive/MyDrive/python/38-site-packages /content/drive/MyDrive/python/Python-3.8.18/lib/python3.8/site-packages"
      ],
      "metadata": {
        "colab": {
          "base_uri": "https://localhost:8080/"
        },
        "id": "QjR5CwKHsi7c",
        "outputId": "2b64e27d-49f5-4dad-dded-8575ff70139c"
      },
      "execution_count": 42,
      "outputs": [
        {
          "output_type": "stream",
          "name": "stdout",
          "text": [
            "absl\t\t\t\t\t       numpy.libs\n",
            "absl_py-2.0.0.dist-info\t\t\t       oauthlib\n",
            "addict\t\t\t\t\t       oauthlib-3.2.2.dist-info\n",
            "addict-2.4.0.dist-info\t\t\t       opencv_python-4.8.1.78.dist-info\n",
            "aiofiles\t\t\t\t       opencv_python.libs\n",
            "aiofiles-23.2.1.dist-info\t\t       orjson\n",
            "altair\t\t\t\t\t       orjson-3.9.10.dist-info\n",
            "altair-5.2.0.dist-info\t\t\t       packaging\n",
            "annotated_types\t\t\t\t       packaging-23.2.dist-info\n",
            "annotated_types-0.6.0.dist-info\t\t       pandas\n",
            "anyio\t\t\t\t\t       pandas-2.0.3.dist-info\n",
            "anyio-3.7.1.dist-info\t\t\t       past\n",
            "attr\t\t\t\t\t       PIL\n",
            "attrs\t\t\t\t\t       Pillow-10.1.0.dist-info\n",
            "attrs-23.1.0.dist-info\t\t\t       Pillow.libs\n",
            "audioread\t\t\t\t       pkgutil_resolve_name-1.3.10.dist-info\n",
            "audioread-3.0.1.dist-info\t\t       pkgutil_resolve_name.py\n",
            "av\t\t\t\t\t       platformdirs\n",
            "av-11.0.0.dist-info\t\t\t       platformdirs-4.1.0.dist-info\n",
            "av.libs\t\t\t\t\t       pooch\n",
            "basicsr\t\t\t\t\t       pooch-1.8.0.dist-info\n",
            "basicsr-1.4.2.dist-info\t\t\t       protobuf-4.25.1.dist-info\n",
            "cachetools\t\t\t\t       pyasn1\n",
            "cachetools-5.3.2.dist-info\t\t       pyasn1-0.5.1.dist-info\n",
            "caffe2\t\t\t\t\t       pyasn1_modules\n",
            "certifi\t\t\t\t\t       pyasn1_modules-0.3.0.dist-info\n",
            "certifi-2023.11.17.dist-info\t\t       __pycache__\n",
            "cffi\t\t\t\t\t       pycparser\n",
            "cffi-1.16.0.dist-info\t\t\t       pycparser-2.21.dist-info\n",
            "_cffi_backend.cpython-38-x86_64-linux-gnu.so   pydantic\n",
            "charset_normalizer\t\t\t       pydantic-2.5.2.dist-info\n",
            "charset_normalizer-3.3.2.dist-info\t       pydantic_core\n",
            "click\t\t\t\t\t       pydantic_core-2.14.5.dist-info\n",
            "click-8.1.7.dist-info\t\t\t       pydub\n",
            "colorama\t\t\t\t       pydub-0.25.1.dist-info\n",
            "colorama-0.4.6.dist-info\t\t       pygments\n",
            "contourpy\t\t\t\t       pygments-2.17.2.dist-info\n",
            "contourpy-1.1.1.dist-info\t\t       pylab.py\n",
            "cv2\t\t\t\t\t       pyparsing\n",
            "cycler\t\t\t\t\t       pyparsing-3.1.1.dist-info\n",
            "cycler-0.12.1.dist-info\t\t\t       python_dateutil-2.8.2.dist-info\n",
            "dateutil\t\t\t\t       python_multipart-0.0.6.dist-info\n",
            "decorator-5.1.1.dist-info\t\t       pytz\n",
            "decorator.py\t\t\t\t       pytz-2023.3.post1.dist-info\n",
            "doc\t\t\t\t\t       PyWavelets-1.4.1.dist-info\n",
            "exceptiongroup\t\t\t\t       pywt\n",
            "exceptiongroup-1.2.0.dist-info\t\t       PyYAML-6.0.1.dist-info\n",
            "face_alignment\t\t\t\t       referencing\n",
            "face_alignment-1.3.5.dist-info\t\t       referencing-0.32.0.dist-info\n",
            "facexlib\t\t\t\t       requests\n",
            "facexlib-0.3.0.dist-info\t\t       requests-2.31.0.dist-info\n",
            "fastapi\t\t\t\t\t       requests_oauthlib\n",
            "fastapi-0.105.0.dist-info\t\t       requests_oauthlib-1.3.1.dist-info\n",
            "ffmpy-0.3.1.dist-info\t\t\t       resampy\n",
            "ffmpy.py\t\t\t\t       resampy-0.3.1.dist-info\n",
            "filelock\t\t\t\t       rich\n",
            "filelock-3.13.1.dist-info\t\t       rich-13.7.0.dist-info\n",
            "filterpy\t\t\t\t       rpds\n",
            "filterpy-1.4.5.dist-info\t\t       rpds_py-0.15.2.dist-info\n",
            "fontTools\t\t\t\t       rsa\n",
            "fonttools-4.46.0.dist-info\t\t       rsa-4.9.dist-info\n",
            "fsspec\t\t\t\t\t       safetensors\n",
            "fsspec-2023.12.2.dist-info\t\t       safetensors-0.4.1.dist-info\n",
            "future\t\t\t\t\t       scikit_image-0.19.3.dist-info\n",
            "future-0.18.3.dist-info\t\t\t       scikit_image.libs\n",
            "gfpgan\t\t\t\t\t       scikit_learn-1.1.3.dist-info\n",
            "gfpgan-1.3.8.dist-info\t\t\t       scikit_learn.libs\n",
            "google\t\t\t\t\t       scipy\n",
            "google_auth-2.25.2.dist-info\t\t       scipy-1.10.1.dist-info\n",
            "google_auth_oauthlib\t\t\t       scipy.libs\n",
            "google_auth_oauthlib-1.0.0.dist-info\t       semantic_version\n",
            "gradio\t\t\t\t\t       semantic_version-2.10.0.dist-info\n",
            "gradio-4.10.0.dist-info\t\t\t       shellingham\n",
            "gradio_client\t\t\t\t       shellingham-1.5.4.dist-info\n",
            "gradio_client-0.7.3.dist-info\t\t       skimage\n",
            "grpc\t\t\t\t\t       sklearn\n",
            "grpcio-1.60.0.dist-info\t\t\t       sniffio\n",
            "h11\t\t\t\t\t       sniffio-1.3.0.dist-info\n",
            "h11-0.14.0.dist-info\t\t\t       soundfile-0.12.1.dist-info\n",
            "httpcore\t\t\t\t       _soundfile_data\n",
            "httpcore-1.0.2.dist-info\t\t       _soundfile.py\n",
            "httpx\t\t\t\t\t       soundfile.py\n",
            "httpx-0.25.2.dist-info\t\t\t       starlette\n",
            "huggingface_hub\t\t\t\t       starlette-0.27.0.dist-info\n",
            "huggingface_hub-0.19.4.dist-info\t       tb_nightly-2.14.0a20230808.dist-info\n",
            "idna\t\t\t\t\t       tensorboard\n",
            "idna-3.6.dist-info\t\t\t       tensorboard_data_server\n",
            "imageio\t\t\t\t\t       tensorboard_data_server-0.7.2.dist-info\n",
            "imageio-2.19.3.dist-info\t\t       threadpoolctl-3.2.0.dist-info\n",
            "imageio_ffmpeg\t\t\t\t       threadpoolctl.py\n",
            "imageio_ffmpeg-0.4.7.dist-info\t\t       tifffile\n",
            "importlib_metadata\t\t\t       tifffile-2023.7.10.dist-info\n",
            "importlib_metadata-7.0.0.dist-info\t       tlz\n",
            "importlib_resources\t\t\t       tomli\n",
            "importlib_resources-6.1.1.dist-info\t       tomli-2.0.1.dist-info\n",
            "jinja2\t\t\t\t\t       tomlkit\n",
            "Jinja2-3.1.2.dist-info\t\t\t       tomlkit-0.12.0.dist-info\n",
            "joblib\t\t\t\t\t       toolz\n",
            "joblib-1.1.0.dist-info\t\t\t       toolz-0.12.0.dist-info\n",
            "jsonschema\t\t\t\t       torch\n",
            "jsonschema-4.20.0.dist-info\t\t       torch-1.12.1+cu113.dist-info\n",
            "jsonschema_specifications\t\t       torchaudio\n",
            "jsonschema_specifications-2023.11.2.dist-info  torchaudio-0.12.1+cu113.dist-info\n",
            "kiwisolver\t\t\t\t       torchgen\n",
            "kiwisolver-1.4.5.dist-info\t\t       torchvision\n",
            "kornia\t\t\t\t\t       torchvision-0.13.1+cu113.dist-info\n",
            "kornia-0.6.8.dist-info\t\t\t       torchvision.libs\n",
            "libfuturize\t\t\t\t       tqdm\n",
            "libpasteurize\t\t\t\t       tqdm-4.66.1.dist-info\n",
            "librosa\t\t\t\t\t       typer\n",
            "librosa-0.9.2.dist-info\t\t\t       typer-0.9.0.dist-info\n",
            "llvmlite\t\t\t\t       typing_extensions-4.9.0.dist-info\n",
            "llvmlite-0.41.1.dist-info\t\t       typing_extensions.py\n",
            "lmdb\t\t\t\t\t       tzdata\n",
            "lmdb-1.4.1.dist-info\t\t\t       tzdata-2023.3.dist-info\n",
            "markdown\t\t\t\t       urllib3\n",
            "Markdown-3.5.1.dist-info\t\t       urllib3-2.1.0.dist-info\n",
            "markdown_it\t\t\t\t       uvicorn\n",
            "markdown_it_py-3.0.0.dist-info\t\t       uvicorn-0.24.0.post1.dist-info\n",
            "markupsafe\t\t\t\t       websockets\n",
            "MarkupSafe-2.1.3.dist-info\t\t       websockets-11.0.3.dist-info\n",
            "matplotlib\t\t\t\t       werkzeug\n",
            "matplotlib-3.7.4.dist-info\t\t       werkzeug-3.0.1.dist-info\n",
            "matplotlib-3.7.4-py3.8-nspkg.pth\t       yacs\n",
            "mdurl\t\t\t\t\t       yacs-0.1.8.dist-info\n",
            "mdurl-0.1.2.dist-info\t\t\t       _yaml\n",
            "mpl_toolkits\t\t\t\t       yaml\n",
            "multipart\t\t\t\t       yapf\n",
            "networkx\t\t\t\t       yapf-0.40.2.dist-info\n",
            "networkx-3.1.dist-info\t\t\t       yapftests\n",
            "numba\t\t\t\t\t       yapf_third_party\n",
            "numba-0.58.1.dist-info\t\t\t       zipp\n",
            "numpy\t\t\t\t\t       zipp-3.17.0.dist-info\n",
            "numpy-1.23.4.dist-info\n"
          ]
        }
      ]
    },
    {
      "cell_type": "code",
      "source": [
        "!sudo apt install python3.8\n",
        "\n",
        "!sudo apt-get install python3.8-distutils\n",
        "\n",
        "!python --version\n",
        "\n",
        "!apt-get update\n",
        "\n",
        "!apt install software-properties-common\n",
        "\n",
        "!sudo dpkg --remove --force-remove-reinstreq python3-pip python3-setuptools python3-wheel\n",
        "\n",
        "!apt-get install python3-pip\n",
        "\n",
        "%cd /content/drive/MyDrive/SadTalker\n",
        "!export PYTHONPATH=/content/SadTalker:$PYTHONPATH\n",
        "!python3.8 -m pip install torch==1.12.1+cu113 torchvision==0.13.1+cu113 torchaudio==0.12.1 --extra-index-url https://download.pytorch.org/whl/cu113\n",
        "!apt update\n",
        "!apt install ffmpeg &> /dev/null\n",
        "!mv /usr/local/lib/python3.8/dist-packages /usr/local/lib/python3.8/dist-packages_bak\n",
        "!sudo ln -s /content/drive/MyDrive/python/Python-3.8.18/lib/python3.8/site-packages /usr/local/lib/python3.8/dist-packages\n",
        "#!python3.8 -m pip install -r requirements.txt\n",
        ""
      ],
      "metadata": {
        "id": "mxg6-132q-Bk"
      },
      "execution_count": null,
      "outputs": []
    },
    {
      "cell_type": "code",
      "execution_count": null,
      "metadata": {
        "colab": {
          "base_uri": "https://localhost:8080/"
        },
        "id": "ToBlDusjK5sS",
        "outputId": "eb150551-4c01-44c8-fb34-c0f47202fe6c"
      },
      "outputs": [
        {
          "output_type": "stream",
          "name": "stdout",
          "text": [
            "/content/drive/MyDrive/SadTalker\n"
          ]
        }
      ],
      "source": [
        "# selected audio from exmaple/driven_audio #--ref_pose 1118.mp4 \\\n",
        "%cd /content/drive/MyDrive/SadTalker\n",
        "!python3.8 inference.py --driven_audio zhubo.wav \\\n",
        "           --source_image zhubo.png \\\n",
        "           --pose_style 20 \\\n",
        "           --face3dvis \\\n",
        "           --result_dir ./results --still --preprocess full --enhancer gfpgan"
      ]
    },
    {
      "cell_type": "code",
      "execution_count": null,
      "metadata": {
        "id": "fAjwGmKKYl_I"
      },
      "outputs": [],
      "source": [
        "# visualize code from makeittalk\n",
        "from IPython.display import HTML\n",
        "from base64 import b64encode\n",
        "import os, sys\n",
        "\n",
        "# get the last from results\n",
        "\n",
        "results = sorted(os.listdir('./results/'))\n",
        "\n",
        "mp4_name = glob.glob('./results/*.mp4')[0]\n",
        "\n",
        "mp4 = open('{}'.format(mp4_name),'rb').read()\n",
        "data_url = \"data:video/mp4;base64,\" + b64encode(mp4).decode()\n",
        "\n",
        "print('Display animation: {}'.format(mp4_name), file=sys.stderr)\n",
        "display(HTML(\"\"\"\n",
        "  <video width=256 controls>\n",
        "        <source src=\"%s\" type=\"video/mp4\">\n",
        "  </video>\n",
        "  \"\"\" % data_url))\n"
      ]
    },
    {
      "cell_type": "code",
      "execution_count": 1,
      "metadata": {
        "colab": {
          "base_uri": "https://localhost:8080/"
        },
        "id": "GZkhs5YYI6z2",
        "outputId": "1654f05d-dcac-4733-d997-5f2b0f5493e0"
      },
      "outputs": [
        {
          "output_type": "stream",
          "name": "stdout",
          "text": [
            "Mounted at /content/drive\n"
          ]
        }
      ],
      "source": [
        "from google.colab import drive\n",
        "drive.mount('/content/drive')"
      ]
    }
  ],
  "metadata": {
    "colab": {
      "provenance": [],
      "gpuType": "T4",
      "include_colab_link": true
    },
    "kernelspec": {
      "display_name": "Python 3",
      "name": "python3"
    },
    "language_info": {
      "name": "python",
      "version": "3.9.7"
    },
    "vscode": {
      "interpreter": {
        "hash": "db5031b3636a3f037ea48eb287fd3d023feb9033aefc2a9652a92e470fb0851b"
      }
    },
    "accelerator": "GPU"
  },
  "nbformat": 4,
  "nbformat_minor": 0
}